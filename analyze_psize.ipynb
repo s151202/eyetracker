{
 "cells": [
  {
   "cell_type": "code",
   "execution_count": 1,
   "metadata": {},
   "outputs": [],
   "source": [
    "import sys\n",
    "sys.path.append('D:\\Diamond\\code')\n",
    "from thesis_funcs_19_03 import *\n",
    "from peyetribe import EyeTribe\n",
    "import time\n",
    "import numpy as np\n",
    "import matplotlib.pyplot as plt\n",
    "import json\n"
   ]
  },
  {
   "cell_type": "code",
   "execution_count": 2,
   "metadata": {},
   "outputs": [],
   "source": [
    "#store pupile size, [left eye, rigght eye] for each read frame\n",
    "psize = [] \n",
    "\n",
    "logfile1 = open('E:\\\\Diamond\\\\eyetracker\\\\test.txt', 'r')\n",
    "stop_reading = 0\n",
    "while stop_reading == 0:\n",
    "    line = logfile1.readline()\n",
    "\n",
    "    if line[0] == '{':\n",
    "        frame_readdict = json.loads(line)\n",
    "        #print (frame_readdict['timestamp'], frame_readdict['lefteye']['psize'], frame_readdict['righteye']['psize'])\n",
    "        \n",
    "        psize.append([frame_readdict['lefteye']['psize'], frame_readdict['righteye']['psize']])\n",
    "        \n",
    "        \n",
    "        if frame_readdict['timestamp'] == '2019-09-28 21:41:15.268':\n",
    "            stop_reading = 1\n",
    "    \n",
    "logfile1.close()\n",
    "\n",
    "psize = np.array(psize)"
   ]
  },
  {
   "cell_type": "code",
   "execution_count": 6,
   "metadata": {},
   "outputs": [
    {
     "data": {
      "text/plain": [
       "('2019-09-28 21:41:15.268', 27.503, 30.419)"
      ]
     },
     "execution_count": 6,
     "metadata": {},
     "output_type": "execute_result"
    }
   ],
   "source": [
    "\n",
    "frame_readdict['timestamp'], frame_readdict['lefteye']['psize'], frame_readdict['righteye']['psize']"
   ]
  },
  {
   "cell_type": "code",
   "execution_count": 13,
   "metadata": {},
   "outputs": [
    {
     "data": {
      "text/plain": [
       "(403, 2)"
      ]
     },
     "execution_count": 13,
     "metadata": {},
     "output_type": "execute_result"
    }
   ],
   "source": [
    "np.shape(psize)"
   ]
  },
  {
   "cell_type": "code",
   "execution_count": 3,
   "metadata": {},
   "outputs": [
    {
     "data": {
      "text/plain": [
       "[<matplotlib.lines.Line2D at 0x28c20f234a8>]"
      ]
     },
     "execution_count": 3,
     "metadata": {},
     "output_type": "execute_result"
    },
    {
     "data": {
      "image/png": "[encoded data removed]",
      "text/plain": [
       "<Figure size 432x288 with 1 Axes>"
      ]
     },
     "metadata": {
      "needs_background": "light"
     },
     "output_type": "display_data"
    }
   ],
   "source": [
    "plt.plot(psize[:,0])\n",
    "plt.plot(psize[:,1])\n"
   ]
  },
  {
   "cell_type": "markdown",
   "metadata": {},
   "source": [
    "# IPA"
   ]
  },
  {
   "cell_type": "code",
   "execution_count": 36,
   "metadata": {},
   "outputs": [],
   "source": [
    "import pywt"
   ]
  },
  {
   "cell_type": "code",
   "execution_count": 37,
   "metadata": {},
   "outputs": [],
   "source": [
    "def modmax(d): \n",
    "    # compute signal modulus \n",
    "    m = [0.0]*len(d) \n",
    "    for i in range(0,len(d)): \n",
    "        m[i] = math.fabs(d[i])\n",
    "    # if value is larger than both neighbours, and strictly \n",
    "    # larger than either, then it is a local maximum \n",
    "    t = [0.0]*len(d) \n",
    "    for i in range(0,len(d)): \n",
    "        ll = m[i-1] if i >= 1 else m[i] \n",
    "        oo = m[i] \n",
    "        rr = m[i+1] if i < len(d)-2 else m[i] \n",
    "        if (ll <= oo and oo >= rr) and (ll < oo or oo > rr): \n",
    "            # compute magnitude \n",
    "            t[i] = math.sqrt(d[i]**2) \n",
    "        else: \n",
    "            t[i] = 0.0\n",
    "    return t\n"
   ]
  },
  {
   "cell_type": "code",
   "execution_count": 66,
   "metadata": {},
   "outputs": [],
   "source": [
    "def ipa(d): \n",
    "    # obtain 2-level DWT of pupil diameter signal d \n",
    "    try: \n",
    "        (cA2,cD2,cD1) = pywt.wavedec(d, 'sym16', 'per', level=2) \n",
    "    except ValueError: \n",
    "        return\n",
    "    # get signal duration (in seconds) \n",
    "    #tt = d[-1].timestamp() - d[0].timestamp()\n",
    "    tt = 60\n",
    "    # normalize by 1/2j, j = 2 for 2-level DWT \n",
    "    cA2[:] = [x / math.sqrt(4.0) for x in cA2] \n",
    "    cD1[:] = [x / math.sqrt(2.0) for x in cD1] \n",
    "    cD2[:] = [x / math.sqrt(4.0) for x in cD2]\n",
    "    # detect modulus maxima, see Listing 2 \n",
    "    cD2m = modmax(cD2)\n",
    "    # threshold using universal threshold λuniv = ˆ σp(2logn)# where ˆ σ is the standard deviation of the noise \n",
    "    lambda_univ = np.std(cD2m) * math.sqrt(2.0*np.log2(len(cD2m))) \n",
    "    cD2t = pywt.threshold(cD2m,lambda_univ,mode=\"hard\")\n",
    "    # compute IPA \n",
    "    ctr = 0 \n",
    "    for i in range(0,len(cD2t)): \n",
    "        if math.fabs(cD2t[i]) > 0: \n",
    "            ctr += 1 \n",
    "    IPA = float(ctr)/tt\n",
    "    return IPA\n"
   ]
  },
  {
   "cell_type": "code",
   "execution_count": 68,
   "metadata": {},
   "outputs": [
    {
     "data": {
      "text/plain": [
       "0.0"
      ]
     },
     "execution_count": 68,
     "metadata": {},
     "output_type": "execute_result"
    }
   ],
   "source": [
    "d = psize[:,0]\n",
    "ipaa = ipa(d)\n",
    "ipaa"
   ]
  },
  {
   "cell_type": "code",
   "execution_count": 69,
   "metadata": {},
   "outputs": [
    {
     "data": {
      "text/plain": [
       "[<matplotlib.lines.Line2D at 0x1f507e67160>]"
      ]
     },
     "execution_count": 69,
     "metadata": {},
     "output_type": "execute_result"
    },
    {
     "data": {
      "image/png": "[encoded data removed]",
      "text/plain": [
       "<Figure size 432x288 with 1 Axes>"
      ]
     },
     "metadata": {
      "needs_background": "light"
     },
     "output_type": "display_data"
    }
   ],
   "source": [
    "plt.plot(psize[:,0])"
   ]
  },
  {
   "cell_type": "code",
   "execution_count": 56,
   "metadata": {},
   "outputs": [
    {
     "data": {
      "text/plain": [
       "0.03333333333333333"
      ]
     },
     "execution_count": 56,
     "metadata": {},
     "output_type": "execute_result"
    }
   ],
   "source": []
  },
  {
   "cell_type": "markdown",
   "metadata": {},
   "source": [
    "# Read in pupil data in time windows"
   ]
  },
  {
   "cell_type": "code",
   "execution_count": 73,
   "metadata": {},
   "outputs": [],
   "source": [
    "winlen = 200 #time window length (2000 ms)\n",
    "stride = 50 # window stride length\n",
    "\n",
    "\n",
    "\n",
    "\n",
    "#store pupile size, [left eye, rigght eye] for each read frame\n",
    "psize = [] \n",
    "\n",
    "logfile1 = open('E:\\\\Diamond\\\\eyetracker\\\\test.txt', 'r')\n",
    "\n",
    "line = logfile1.readline()\n",
    "\n",
    "\n",
    "stop_reading = 0\n",
    "virgin = 1\n",
    "\n",
    "\n",
    "while stop_reading == 0:\n",
    "    line = logfile1.readline()\n",
    "\n",
    "    if line[0] == '{':\n",
    "        frame_readdict = json.loads(line)\n",
    "        psize.append([frame_readdict['lefteye']['psize'], frame_readdict['righteye']['psize']])\n",
    "\n",
    "        #stop_reading = 1\n",
    "\n",
    "        #start time of the current time window\n",
    "        if virgin ==  1:\n",
    "            start_time = float(frame_readdict['time'])\n",
    "            virgin = 0\n",
    "\n",
    "        if (float(frame_readdict['time']) - start_time) > winlen:\n",
    "            stop_reading = 1\n",
    "            start_time = start_time + stride\n",
    "\n",
    "\n",
    "\n",
    "\n",
    "\n",
    "\n",
    "logfile1.close()\n",
    "\n",
    "psize = np.array(psize)\n"
   ]
  },
  {
   "cell_type": "code",
   "execution_count": 74,
   "metadata": {},
   "outputs": [
    {
     "data": {
      "text/plain": [
       "962857064.0"
      ]
     },
     "execution_count": 74,
     "metadata": {},
     "output_type": "execute_result"
    }
   ],
   "source": [
    "start_time"
   ]
  },
  {
   "cell_type": "code",
   "execution_count": null,
   "metadata": {},
   "outputs": [],
   "source": []
  }
 ],
 "metadata": {
  "kernelspec": {
   "display_name": "Python 3",
   "language": "python",
   "name": "python3"
  },
  "language_info": {
   "codemirror_mode": {
    "name": "ipython",
    "version": 3
   },
   "file_extension": ".py",
   "mimetype": "text/x-python",
   "name": "python",
   "nbconvert_exporter": "python",
   "pygments_lexer": "ipython3",
   "version": "3.7.1"
  }
 },
 "nbformat": 4,
 "nbformat_minor": 2
}
