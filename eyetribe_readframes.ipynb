{
 "cells": [
  {
   "cell_type": "code",
   "execution_count": 1,
   "metadata": {},
   "outputs": [],
   "source": [
    "import sys\n",
    "sys.path.append('D:\\Diamond\\code')\n",
    "from thesis_funcs_19_03 import *\n",
    "from peyetribe import EyeTribe\n",
    "import time\n",
    "import numpy as np\n",
    "import matplotlib.pyplot as plt\n",
    "import json\n"
   ]
  },
  {
   "cell_type": "markdown",
   "metadata": {},
   "source": [
    "frame.json.keys() = dict_keys(['avg', 'fix', 'lefteye', 'raw', 'righteye', 'state', 'time', 'timestamp'])"
   ]
  },
  {
   "cell_type": "markdown",
   "metadata": {},
   "source": [
    "# connect to eyetribe tracker and save data in push mode"
   ]
  },
  {
   "cell_type": "code",
   "execution_count": 14,
   "metadata": {},
   "outputs": [
    {
     "name": "stderr",
     "output_type": "stream",
     "text": [
      "_listener starting\n",
      "_hbeater starting\n",
      "_listener ending\n"
     ]
    },
    {
     "ename": "Exception",
     "evalue": "HeartBeater thread did not terminate as expected; protocol error?",
     "output_type": "error",
     "traceback": [
      "\u001b[1;31m---------------------------------------------------------------------------\u001b[0m",
      "\u001b[1;31mException\u001b[0m                                 Traceback (most recent call last)",
      "\u001b[1;32m<ipython-input-14-af5bce8c51a1>\u001b[0m in \u001b[0;36m<module>\u001b[1;34m\u001b[0m\n\u001b[0;32m     35\u001b[0m     \u001b[0mlogfile\u001b[0m\u001b[1;33m.\u001b[0m\u001b[0mclose\u001b[0m\u001b[1;33m(\u001b[0m\u001b[1;33m)\u001b[0m\u001b[1;33m\u001b[0m\u001b[1;33m\u001b[0m\u001b[0m\n\u001b[0;32m     36\u001b[0m \u001b[1;33m\u001b[0m\u001b[0m\n\u001b[1;32m---> 37\u001b[1;33m     \u001b[0mtracker\u001b[0m\u001b[1;33m.\u001b[0m\u001b[0mclose\u001b[0m\u001b[1;33m(\u001b[0m\u001b[1;33m)\u001b[0m\u001b[1;33m\u001b[0m\u001b[1;33m\u001b[0m\u001b[0m\n\u001b[0m",
      "\u001b[1;32mD:\\Diamond\\code\\peyetribe.py\u001b[0m in \u001b[0;36mclose\u001b[1;34m(self, quick)\u001b[0m\n\u001b[0;32m    509\u001b[0m                     \u001b[0mself\u001b[0m\u001b[1;33m.\u001b[0m\u001b[0m_hbeater\u001b[0m\u001b[1;33m.\u001b[0m\u001b[0mjoin\u001b[0m\u001b[1;33m(\u001b[0m\u001b[0mmin\u001b[0m\u001b[1;33m(\u001b[0m\u001b[1;33m(\u001b[0m\u001b[0mself\u001b[0m\u001b[1;33m.\u001b[0m\u001b[0m_hbinterval\u001b[0m\u001b[1;33m*\u001b[0m\u001b[1;36m3\u001b[0m\u001b[1;33m,\u001b[0m \u001b[1;36m10\u001b[0m\u001b[1;33m)\u001b[0m\u001b[1;33m)\u001b[0m\u001b[1;33m)\u001b[0m\u001b[1;33m\u001b[0m\u001b[1;33m\u001b[0m\u001b[0m\n\u001b[0;32m    510\u001b[0m                     \u001b[1;32mif\u001b[0m \u001b[0mself\u001b[0m\u001b[1;33m.\u001b[0m\u001b[0m_hbeater\u001b[0m\u001b[1;33m.\u001b[0m\u001b[0mis_alive\u001b[0m\u001b[1;33m(\u001b[0m\u001b[1;33m)\u001b[0m\u001b[1;33m:\u001b[0m\u001b[1;33m\u001b[0m\u001b[1;33m\u001b[0m\u001b[0m\n\u001b[1;32m--> 511\u001b[1;33m                         \u001b[1;32mraise\u001b[0m \u001b[0mException\u001b[0m\u001b[1;33m(\u001b[0m\u001b[1;34m\"HeartBeater thread did not terminate as expected; protocol error?\"\u001b[0m\u001b[1;33m)\u001b[0m\u001b[1;33m\u001b[0m\u001b[1;33m\u001b[0m\u001b[0m\n\u001b[0m\u001b[0;32m    512\u001b[0m \u001b[1;33m\u001b[0m\u001b[0m\n\u001b[0;32m    513\u001b[0m             \u001b[0mself\u001b[0m\u001b[1;33m.\u001b[0m\u001b[0m_listener\u001b[0m \u001b[1;33m=\u001b[0m \u001b[1;32mNone\u001b[0m\u001b[1;33m\u001b[0m\u001b[1;33m\u001b[0m\u001b[0m\n",
      "\u001b[1;31mException\u001b[0m: HeartBeater thread did not terminate as expected; protocol error?"
     ]
    },
    {
     "name": "stderr",
     "output_type": "stream",
     "text": [
      "_hbeater ending\n",
      "_hbeater ending\n",
      "_hbeater ending\n"
     ]
    }
   ],
   "source": [
    "subject = 'test'\n",
    "\n",
    "#initialize log file for eye tracking data\n",
    "logfile = open('E:\\\\Diamond\\\\eyetracker\\\\test.txt', 'w+')\n",
    "logfile.write('subject ' + subject + '\\n')\n",
    "logfile.close()\n",
    "\n",
    "#read in stoping instruction, if stop_eyetracker is '0', we keep tracker in push mode(sending data), if its '1', then we close tracker.\n",
    "stop_eyetracker_file = open('E:\\\\Diamond\\\\eyetracker\\\\stop_eyetracker.txt', 'r')\n",
    "stop_eyetracker = stop_eyetracker_file.read().strip()\n",
    "stop_eyetracker_file.close()\n",
    "\n",
    "if stop_eyetracker == '0':\n",
    "    #connect tracker\n",
    "    tracker = EyeTribe()\n",
    "    tracker.connect()\n",
    "    tracker.pushmode()\n",
    "\n",
    "    logfile = open('E:\\\\Diamond\\\\eyetracker\\\\test.txt', 'a+')\n",
    "    while stop_eyetracker == '0':\n",
    "        \n",
    "        #read the frame (eyetracker data for this timestamp)\n",
    "        frame = tracker.next()\n",
    "\n",
    "        #write the eyetracker datta (frame) into json format txt file\n",
    "        logfile.write(json.dumps( frame.json) + '\\n') \n",
    "\n",
    "        #check if eyetracker should be stopped\n",
    "        stop_eyetracker_file = open('E:\\\\Diamond\\\\eyetracker\\\\stop_eyetracker.txt', 'r')\n",
    "        stop_eyetracker = stop_eyetracker_file.read().strip()\n",
    "        stop_eyetracker_file.close()\n",
    "      \n",
    "\n",
    "\n",
    "    logfile.close()\n",
    "\n",
    "    tracker.close()"
   ]
  },
  {
   "cell_type": "markdown",
   "metadata": {},
   "source": [
    "# read the logged eyetracker data, for a single timestamp"
   ]
  },
  {
   "cell_type": "code",
   "execution_count": 90,
   "metadata": {
    "scrolled": true
   },
   "outputs": [],
   "source": [
    "logfile1 = open('E:\\\\Diamond\\\\eyetracker\\\\test.txt', 'r')\n",
    "stop_reading = 0\n",
    "while stop_reading == 0:\n",
    "    line = logfile1.readline()\n",
    "\n",
    "    if line[0] == '{':\n",
    "        frame_readdict = json.loads(line)\n",
    "        \n",
    "        \n",
    "        if frame_readdict['timestamp'] == '2019-09-28 21:41:15.268':\n",
    "            stop_reading = 1\n",
    "    \n",
    "logfile1.close()"
   ]
  },
  {
   "cell_type": "code",
   "execution_count": 91,
   "metadata": {},
   "outputs": [
    {
     "data": {
      "text/plain": [
       "'2019-09-28 21:41:15.268'"
      ]
     },
     "execution_count": 91,
     "metadata": {},
     "output_type": "execute_result"
    }
   ],
   "source": [
    "frame_readdict['timestamp'] "
   ]
  },
  {
   "cell_type": "code",
   "execution_count": 92,
   "metadata": {},
   "outputs": [
    {
     "data": {
      "text/plain": [
       "962870404"
      ]
     },
     "execution_count": 92,
     "metadata": {},
     "output_type": "execute_result"
    }
   ],
   "source": [
    " frame_readdict['time']"
   ]
  },
  {
   "cell_type": "code",
   "execution_count": 93,
   "metadata": {},
   "outputs": [
    {
     "data": {
      "text/plain": [
       "{'avg': {'x': 398.4461, 'y': 0.3692},\n",
       " 'fix': True,\n",
       " 'lefteye': {'avg': {'x': 297.9232, 'y': 21.9912},\n",
       "  'pcenter': {'x': 0.311, 'y': 0.4313},\n",
       "  'psize': 27.503,\n",
       "  'raw': {'x': 297.9232, 'y': 21.9912}},\n",
       " 'raw': {'x': 392.5419, 'y': 5.7214},\n",
       " 'righteye': {'avg': {'x': 494.6086, 'y': 5.655},\n",
       "  'pcenter': {'x': 0.4988, 'y': 0.4341},\n",
       "  'psize': 30.419,\n",
       "  'raw': {'x': 487.1605, 'y': -10.5484}},\n",
       " 'state': 7,\n",
       " 'time': 962870404,\n",
       " 'timestamp': '2019-09-28 21:41:15.268'}"
      ]
     },
     "execution_count": 93,
     "metadata": {},
     "output_type": "execute_result"
    }
   ],
   "source": [
    " json.loads(line)\n",
    "    "
   ]
  },
  {
   "cell_type": "code",
   "execution_count": 94,
   "metadata": {},
   "outputs": [
    {
     "data": {
      "text/plain": [
       "{'avg': {'x': 398.4461, 'y': 0.3692},\n",
       " 'fix': True,\n",
       " 'lefteye': {'avg': {'x': 297.9232, 'y': 21.9912},\n",
       "  'pcenter': {'x': 0.311, 'y': 0.4313},\n",
       "  'psize': 27.503,\n",
       "  'raw': {'x': 297.9232, 'y': 21.9912}},\n",
       " 'raw': {'x': 392.5419, 'y': 5.7214},\n",
       " 'righteye': {'avg': {'x': 494.6086, 'y': 5.655},\n",
       "  'pcenter': {'x': 0.4988, 'y': 0.4341},\n",
       "  'psize': 30.419,\n",
       "  'raw': {'x': 487.1605, 'y': -10.5484}},\n",
       " 'state': 7,\n",
       " 'time': 962870404,\n",
       " 'timestamp': '2019-09-28 21:41:15.268'}"
      ]
     },
     "execution_count": 94,
     "metadata": {},
     "output_type": "execute_result"
    }
   ],
   "source": [
    "frame_readdict"
   ]
  },
  {
   "cell_type": "code",
   "execution_count": null,
   "metadata": {},
   "outputs": [],
   "source": []
  }
 ],
 "metadata": {
  "kernelspec": {
   "display_name": "Python 3",
   "language": "python",
   "name": "python3"
  },
  "language_info": {
   "codemirror_mode": {
    "name": "ipython",
    "version": 3
   },
   "file_extension": ".py",
   "mimetype": "text/x-python",
   "name": "python",
   "nbconvert_exporter": "python",
   "pygments_lexer": "ipython3",
   "version": "3.7.1"
  }
 },
 "nbformat": 4,
 "nbformat_minor": 2
}
